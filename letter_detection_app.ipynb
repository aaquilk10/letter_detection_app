{
 "cells": [
  {
   "cell_type": "code",
   "execution_count": 1,
   "id": "anonymous-screen",
   "metadata": {},
   "outputs": [],
   "source": [
    "import warnings\n",
    "warnings.filterwarnings('ignore')"
   ]
  },
  {
   "cell_type": "code",
   "execution_count": 2,
   "id": "grand-sustainability",
   "metadata": {},
   "outputs": [
    {
     "name": "stdout",
     "output_type": "stream",
     "text": [
      "features.py executed properly\n",
      "Loading data...\n",
      "Loaded 46209 raw labelled activity data samples.\n",
      "Reorienting accelerometer data...\n",
      "Extracting features and labels for window size 20 and step size 20...\n",
      "Finished feature extraction over 2310 windows\n",
      "Unique labels found: {0.0, 1.0, 2.0, 3.0, 4.0}\n",
      "\n",
      "\n",
      "Activities predicted by the tree \n",
      "[0. 0. 0. 0. 0. 0. 0. 0. 0. 0. 0. 0. 0. 0. 0. 0. 0. 0. 0. 0. 0. 0. 0. 0.\n",
      " 0. 0. 0. 0. 0. 0. 0. 0. 0. 0. 0. 0. 0. 0. 0. 1. 4. 1. 1. 1. 1. 1. 1. 1.\n",
      " 1. 1. 1. 1. 1. 1. 1. 4. 1. 1. 1. 1. 4. 1. 1. 1. 1. 1. 1. 1. 1. 1. 1. 1.\n",
      " 1. 1. 1. 1. 1. 1. 1. 1. 1. 1. 1. 1. 1. 1. 1. 2. 2. 2. 2. 2. 2. 2. 2. 2.\n",
      " 2. 2. 2. 2. 2. 2. 2. 2. 2. 2. 2. 2. 2. 2. 2. 2. 2. 2. 2. 2. 2. 2. 1. 2.\n",
      " 2. 2. 4. 2. 3. 2. 2. 2. 2. 2. 3. 3. 3. 3. 3. 4. 3. 3. 3. 3. 3. 2. 3. 3.\n",
      " 3. 3. 3. 2. 3. 3. 2. 3. 3. 2. 3. 3. 3. 3. 1. 3. 3. 3. 3. 0. 3. 3. 3. 3.\n",
      " 3. 3. 3. 3. 3. 2. 3. 3. 2. 3. 3. 2. 3. 4. 4. 4. 4. 4. 4. 4. 1. 4. 4. 4.\n",
      " 4. 4. 4. 4. 4. 4. 4. 4. 4. 4. 4. 4. 4. 4. 4. 4. 4. 4. 4. 4. 4. 4. 4. 4.\n",
      " 4. 4. 4. 4. 4. 4. 1. 4. 4. 4. 4. 4. 4. 4. 4.]\n",
      "\n",
      "Activities from the collected data \n",
      "[0. 0. 0. 0. 0. 0. 0. 0. 0. 0. 0. 0. 0. 0. 0. 0. 0. 0. 0. 0. 0. 0. 0. 0.\n",
      " 0. 0. 0. 0. 0. 0. 0. 0. 0. 0. 0. 0. 0. 0. 0. 1. 1. 1. 1. 1. 1. 1. 1. 1.\n",
      " 1. 1. 1. 1. 1. 1. 1. 1. 1. 1. 1. 1. 1. 1. 1. 1. 1. 1. 1. 1. 1. 1. 1. 1.\n",
      " 1. 1. 1. 1. 1. 1. 1. 1. 1. 1. 1. 1. 1. 1. 1. 2. 2. 2. 2. 2. 2. 2. 2. 2.\n",
      " 2. 2. 2. 2. 2. 2. 2. 2. 2. 2. 2. 2. 2. 2. 2. 2. 2. 2. 2. 2. 2. 2. 2. 2.\n",
      " 2. 2. 2. 2. 2. 2. 2. 2. 2. 2. 3. 3. 3. 3. 3. 3. 3. 3. 3. 3. 3. 3. 3. 3.\n",
      " 3. 3. 3. 3. 3. 3. 3. 3. 3. 3. 3. 3. 3. 3. 3. 3. 3. 3. 3. 3. 3. 3. 3. 3.\n",
      " 3. 3. 3. 3. 3. 3. 3. 3. 3. 3. 3. 3. 3. 4. 4. 4. 4. 4. 4. 4. 4. 4. 4. 4.\n",
      " 4. 4. 4. 4. 4. 4. 4. 4. 4. 4. 4. 4. 4. 4. 4. 4. 4. 4. 4. 4. 4. 4. 4. 4.\n",
      " 4. 4. 4. 4. 4. 4. 4. 4. 4. 4. 4. 4. 4. 4. 4.]\n",
      "\n",
      "Confusion matrix \n",
      "[[39  0  0  0  0]\n",
      " [ 0 45  0  0  3]\n",
      " [ 0  1 40  1  1]\n",
      " [ 1  1  7 41  1]\n",
      " [ 0  2  0  0 48]]\n",
      "\n"
     ]
    },
    {
     "data": {
      "image/png": "[encoded data removed]",
      "text/plain": [
       "<Figure size 432x288 with 1 Axes>"
      ]
     },
     "metadata": {
      "needs_background": "light"
     },
     "output_type": "display_data"
    },
    {
     "name": "stdout",
     "output_type": "stream",
     "text": [
      "Average accuracy of the model is 0.922077922077922\n",
      "\n",
      "Precision of the model is [1.         0.9375     0.93023256 0.80392157 0.96      ]\n",
      "\n",
      "Recall of the model is [0.975      0.91836735 0.85106383 0.97619048 0.90566038]\n",
      "\n",
      "Training decision tree classifier on entire dataset...\n",
      "Fold 0 : Training Random Forest classifier over 2079 points...\n",
      "Evaluating classifier over 231 points...\n",
      "Fold 1 : Training Random Forest classifier over 2079 points...\n",
      "Evaluating classifier over 231 points...\n",
      "Fold 2 : Training Random Forest classifier over 2079 points...\n",
      "Evaluating classifier over 231 points...\n",
      "Fold 3 : Training Random Forest classifier over 2079 points...\n",
      "Evaluating classifier over 231 points...\n",
      "Fold 4 : Training Random Forest classifier over 2079 points...\n",
      "Evaluating classifier over 231 points...\n",
      "Fold 5 : Training Random Forest classifier over 2079 points...\n",
      "Evaluating classifier over 231 points...\n",
      "Fold 6 : Training Random Forest classifier over 2079 points...\n",
      "Evaluating classifier over 231 points...\n",
      "Fold 7 : Training Random Forest classifier over 2079 points...\n",
      "Evaluating classifier over 231 points...\n",
      "Fold 8 : Training Random Forest classifier over 2079 points...\n",
      "Evaluating classifier over 231 points...\n",
      "Fold 9 : Training Random Forest classifier over 2079 points...\n",
      "Evaluating classifier over 231 points...\n",
      "\n",
      "Activities predicted by the tree \n",
      "[0. 0. 0. 0. 0. 0. 0. 0. 0. 0. 0. 0. 0. 0. 0. 0. 0. 0. 0. 0. 0. 0. 0. 0.\n",
      " 0. 0. 0. 0. 0. 0. 0. 0. 0. 0. 0. 0. 0. 0. 0. 0. 0. 1. 1. 1. 1. 1. 1. 1.\n",
      " 1. 1. 1. 1. 1. 1. 1. 1. 1. 1. 1. 1. 1. 1. 1. 1. 1. 1. 1. 1. 1. 1. 1. 1.\n",
      " 1. 1. 1. 1. 1. 1. 1. 1. 1. 1. 1. 1. 1. 1. 2. 2. 2. 2. 2. 2. 2. 2. 2. 2.\n",
      " 2. 2. 2. 2. 2. 3. 2. 2. 2. 2. 2. 2. 2. 2. 2. 2. 2. 2. 2. 2. 2. 2. 2. 2.\n",
      " 2. 2. 2. 2. 2. 2. 2. 2. 2. 2. 2. 2. 2. 2. 2. 2. 2. 3. 3. 3. 3. 3. 3. 3.\n",
      " 3. 3. 3. 3. 3. 2. 3. 3. 3. 3. 3. 3. 3. 3. 3. 3. 2. 3. 3. 3. 3. 3. 3. 3.\n",
      " 3. 3. 3. 3. 3. 3. 3. 3. 3. 3. 3. 3. 3. 3. 3. 3. 3. 2. 3. 3. 4. 4. 4. 4.\n",
      " 4. 4. 4. 4. 4. 4. 4. 4. 4. 4. 4. 4. 4. 4. 4. 4. 4. 4. 4. 4. 4. 4. 4. 4.\n",
      " 4. 4. 4. 4. 4. 4. 4. 4. 4. 4. 4. 4. 4. 4. 4.]\n",
      "\n",
      "Activities from the collected data \n",
      "[0. 0. 0. 0. 0. 0. 0. 0. 0. 0. 0. 0. 0. 0. 0. 0. 0. 0. 0. 0. 0. 0. 0. 0.\n",
      " 0. 0. 0. 0. 0. 0. 0. 0. 0. 0. 0. 0. 0. 0. 0. 0. 0. 1. 1. 1. 1. 1. 1. 1.\n",
      " 1. 1. 1. 1. 1. 1. 1. 1. 1. 1. 1. 1. 1. 1. 1. 1. 1. 1. 1. 1. 1. 1. 1. 1.\n",
      " 1. 1. 1. 1. 1. 1. 1. 1. 1. 1. 1. 1. 1. 1. 2. 2. 2. 2. 2. 2. 2. 2. 2. 2.\n",
      " 2. 2. 2. 2. 2. 2. 2. 2. 2. 2. 2. 2. 2. 2. 2. 2. 2. 2. 2. 2. 2. 2. 2. 2.\n",
      " 2. 2. 2. 2. 2. 2. 2. 2. 2. 2. 2. 2. 2. 2. 2. 2. 2. 3. 3. 3. 3. 3. 3. 3.\n",
      " 3. 3. 3. 3. 3. 3. 3. 3. 3. 3. 3. 3. 3. 3. 3. 3. 3. 3. 3. 3. 3. 3. 3. 3.\n",
      " 3. 3. 3. 3. 3. 3. 3. 3. 3. 3. 3. 3. 3. 3. 3. 3. 3. 3. 3. 3. 4. 4. 4. 4.\n",
      " 4. 4. 4. 4. 4. 4. 4. 4. 4. 4. 4. 4. 4. 4. 4. 4. 4. 4. 4. 4. 4. 4. 4. 4.\n",
      " 4. 4. 4. 4. 4. 4. 4. 4. 4. 4. 4. 4. 4. 4. 4.]\n",
      "\n",
      "Confusion matrix \n",
      "[[41  0  0  0  0]\n",
      " [ 0 45  0  0  0]\n",
      " [ 0  0 50  1  0]\n",
      " [ 0  0  1 50  0]\n",
      " [ 0  0  0  0 43]]\n",
      "\n"
     ]
    },
    {
     "data": {
      "image/png": "[encoded data removed]",
      "text/plain": [
       "<Figure size 432x288 with 1 Axes>"
      ]
     },
     "metadata": {
      "needs_background": "light"
     },
     "output_type": "display_data"
    },
    {
     "name": "stdout",
     "output_type": "stream",
     "text": [
      "The average accuracy is 0.9913419913419913\n",
      "\n",
      "The average precision is [1.         1.         0.98039216 0.98039216 1.        ]\n",
      "\n",
      "The average recall is [1.         1.         0.98039216 0.98039216 1.        ]\n",
      "\n",
      "activity-classification-train.py executed properly\n"
     ]
    }
   ],
   "source": [
    "%run letters-classification-train.py"
   ]
  },
  {
   "cell_type": "code",
   "execution_count": 3,
   "id": "standard-bundle",
   "metadata": {},
   "outputs": [],
   "source": [
    "# %run features.py\n"
   ]
  },
  {
   "cell_type": "code",
   "execution_count": 4,
   "id": "coordinated-harvest",
   "metadata": {
    "scrolled": false
   },
   "outputs": [],
   "source": [
    "# %run activity-classification-train.py"
   ]
  },
  {
   "cell_type": "code",
   "execution_count": 5,
   "id": "steady-certification",
   "metadata": {},
   "outputs": [],
   "source": [
    "# %run dominant-classification-train.py"
   ]
  }
 ],
 "metadata": {
  "kernelspec": {
   "display_name": "Python 3",
   "language": "python",
   "name": "python3"
  },
  "language_info": {
   "codemirror_mode": {
    "name": "ipython",
    "version": 3
   },
   "file_extension": ".py",
   "mimetype": "text/x-python",
   "name": "python",
   "nbconvert_exporter": "python",
   "pygments_lexer": "ipython3",
   "version": "3.6.12"
  }
 },
 "nbformat": 4,
 "nbformat_minor": 5
}
